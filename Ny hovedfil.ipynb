{
 "cells": [
  {
   "cell_type": "markdown",
   "metadata": {},
   "source": [
    "Kjøreplan:\n",
    "\n",
    "Nature.ipynb\n",
    "\n",
    "Hva er farligst?\n",
    "\n",
    "Kortpoeng1\n",
    "\n",
    "Kortpoeng2?\n",
    "\n",
    "objektberegning: sirkel/kvadrat, areal/omkrets\n",
    "\n",
    "for-løkke\n",
    "\n",
    "while-løkke\n",
    "\n",
    "plotting\n",
    "\n",
    "random: stein saks papir"
   ]
  },
  {
   "cell_type": "code",
   "execution_count": null,
   "metadata": {},
   "outputs": [],
   "source": []
  },
  {
   "cell_type": "markdown",
   "metadata": {},
   "source": [
    "## Kortpoeng\n",
    "Vi skal nå trekke kort fra en kortstokk og gi et visst antall poeng avhengig av de to reglene under. Vi skal huske poengene og legge sammen fra runde til runde og se hva totalen er. Vi begynner med null poeng.\n",
    "\n",
    "Hvis kortet er spar, legg til 2 poeng.\n",
    "Ellers, hvis kortet er hjerter, legg til 1 poeng.\n",
    "Ellers, trekk fra 1 poeng.\n",
    "\n",
    "Hvis kortet er et bildekort (J, Q, K), legg til 5 poeng.\n",
    "Ellers, legg til så mange poeng som tallet kortet representerer.\n",
    "\n",
    "H5\n",
    "SJ\n",
    "CK\n",
    "\n",
    "D4\n",
    "SQ\n",
    "H8\n",
    "\n",
    "\n",
    "\n",
    "\n",
    "\n",
    "\n",
    "\n",
    "###### Tegn flytskjema for dette\n",
    "Hva skjer med ess?\n",
    "\n",
    "Hva skjer med joker? Bridgereglene?\n",
    "\n",
    "Hva skjer hvis vi trekker kløver eller ruter som første kort?\n",
    "\n",
    "### Testcase 1\n",
    "H5: poeng = 6\n",
    "\n",
    "SJ: poeng = 13\n",
    "\n",
    "CK: poeng = 17\n",
    "\n",
    "### Testcase 2\n",
    "D4: poeng = 3\n",
    "\n",
    "SQ: poeng = 10\n",
    "\n",
    "H8: poeng = 19"
   ]
  },
  {
   "cell_type": "code",
   "execution_count": null,
   "metadata": {},
   "outputs": [],
   "source": [
    "poeng = 0\n",
    "\n",
    "def kortpoeng(kort):\n",
    "    \"\"\"\n",
    "    Kortene skal gis på formen 'HQ' for hjerter dame, 'C3' for kløver 3.\n",
    "    C-clubs-kløver\n",
    "    S-spades-spar\n",
    "    H-hearts-hjerter\n",
    "    D-diamonds-ruter\n",
    "    K-king-konge\n",
    "    Q-queen-dame\n",
    "    J-jack-knekt\n",
    "    \"\"\"\n",
    "    global poeng\n",
    "    \n",
    "    farge = kort[0]\n",
    "    verdi = kort[1:]\n",
    "    \n",
    "    if farge == 'S':\n",
    "        poeng += 2\n",
    "    elif farge == 'H':\n",
    "        poeng += 1\n",
    "    else:\n",
    "        poeng -= 1\n",
    "        \n",
    "    \n",
    "    if verdi == 'K' or verdi == 'Q' or verdi == 'J':\n",
    "        poeng += 5\n",
    "    else:\n",
    "        poeng += int(verdi)\n",
    "    print('Du har nå',poeng,'poeng.')\n",
    "    # print('Du har nå '+str(poeng)+' poeng.')"
   ]
  },
  {
   "cell_type": "code",
   "execution_count": null,
   "metadata": {},
   "outputs": [],
   "source": [
    "kortpoeng('H5')"
   ]
  },
  {
   "cell_type": "markdown",
   "metadata": {},
   "source": [
    "### Oppgave 1\n",
    "#### a)\n",
    "Lag flytskjema for kortreglene som er definert nedenfor.\n",
    "\n",
    "Hvis kortet er kløver, legg til 1 poeng. Ellers, hvis kortet er spar, legg til 2 poeng. Ellers, hvis kortet er ruter, legg til 3 poeng. Ellers, trekk fra 1 poeng.\n",
    "\n",
    "Hvis kortet er ess eller 2, gang antall poeng med 2.\n",
    "\n",
    "Test:\n",
    "\n",
    "Starter på null poeng.\n",
    "\n",
    "Kløver ess: 2\n",
    "\n",
    "Ruter to: 10\n",
    "\n",
    "Spar fire: 12\n",
    "\n",
    "#### b)\n",
    "Fyll inn de linjene som mangler i koden nedenfor for å skape et program som gir poeng til ulike kort etter reglene over."
   ]
  },
  {
   "cell_type": "code",
   "execution_count": null,
   "metadata": {},
   "outputs": [],
   "source": [
    "poeng = 0\n",
    "\n",
    "def kortpoeng2(kort):\n",
    "    \"\"\"\n",
    "    Kortene skal gis på formen 'HQ' for hjerter dame, 'C3' for kløver 3.\n",
    "    C-clubs-kløver\n",
    "    S-spades-spar\n",
    "    H-hearts-hjerter\n",
    "    D-diamonds-ruter\n",
    "    A-ace-ess\n",
    "    K-king-konge\n",
    "    Q-queen-dame\n",
    "    J-jack-knekt\n",
    "    \"\"\"\n",
    "    global poeng\n",
    "    \n",
    "    farge = kort[0]\n",
    "    verdi = kort[1:]\n",
    "    \n",
    "    # Linje 1-8 brukes til første if-else-struktur\n",
    "    # Linje 1\n",
    "    # Linje 2\n",
    "    # Linje 3\n",
    "    # Linje 4\n",
    "    # Linje 5\n",
    "    # Linje 6\n",
    "    # Linje 7\n",
    "    # Linje 8\n",
    "    \n",
    "    # Linje 9-10 brukes til andre if-else-struktur\n",
    "    # Linje 9\n",
    "    # Linje 10\n",
    "    \n",
    "    print('Du har nå',poeng,'poeng.')"
   ]
  },
  {
   "cell_type": "markdown",
   "metadata": {},
   "source": [
    "## If-else-strukturer\n",
    "Vi har nå brukt if-else-strukturer. Dette er et ekstremt viktig verktøy i programmering. Det lar oss utføre ulike handlinger avhengig av en eller flere kontroller. Dette gjør vi i hverdagen hver eneste gang vi gjør et valg.\n",
    "\n",
    "Det generelle mønsteret er:\n",
    "\n",
    "> if kontroll1:\n",
    "    \n",
    ">     handling1\n",
    "    \n",
    ">     handling2\n",
    "    \n",
    ">     osv.\n",
    "\n",
    "> elif kontroll2:\n",
    "    \n",
    ">     handling3\n",
    "    \n",
    ">     handling4\n",
    "    \n",
    ">     osv.\n",
    "\n",
    "> elif kontroll3:\n",
    "    \n",
    ">     handling5\n",
    "    \n",
    ">     handling6\n",
    "    \n",
    ">     osv.\n",
    "\n",
    "\n",
    "\n",
    "> elif kontroll_n:\n",
    "    \n",
    ">     handling_n\n",
    "    \n",
    ">     handling_n+1\n",
    "    \n",
    ">     osv.\n",
    "\n",
    "> else:\n",
    "    \n",
    ">     handling_n+2\n",
    "    \n",
    ">     handling_n+3\n",
    "    \n",
    ">     osv.\n",
    "\n",
    "    \n",
    "Vi kan ha hvor mange \"elif\"-kontroller vi vil. Det kan være null.\n",
    "\n",
    "Vi kan velge å ha \"else\" til slutt, men vi kan også la være.\n",
    "\n",
    "Maksimalt ETT av handlingssporene blir kjørt."
   ]
  },
  {
   "cell_type": "markdown",
   "metadata": {},
   "source": [
    "## Funksjoner\n",
    "Vi har også brukt funksjoner. En funksjon er et sett med handlinger som utføres på en eller flere inputs, og som til slutt gir en output. Vi bruker funksjoner dersom samme sett med handlinger skal utføres flere ganger med ulike inputs, eller bare for å dele opp kode i flere mindre biter.\n",
    "\n",
    "Funksjoner er noe vi bruker mye i programmering. I Python er det generelle mønsteret for å definere en funksjon som vist under. Legg merke til at det er et innrykk på alle linjene etter den første. Innrykket er et tab, knappen over caps lock.\n",
    "\n",
    "> def funksjonsnavn(input1, input2, input3, ..., inputn):\n",
    "\n",
    ">     \"\"\"Hjelpetekst for funksjonen\"\"\"\n",
    "\n",
    ">     handling_1\n",
    "    \n",
    ">     handling_2\n",
    "    \n",
    ">     ...\n",
    "    \n",
    ">     handling_k\n",
    "    \n",
    ">     return(output1, output2, output3, ..., outputm)\n",
    "\n",
    "For å bruke funksjonen skriver vi som vist under.\n",
    "\n",
    "(mottatt_output1, mottatt_output2, ..., mottatt_outputm) = funksjonsnavn(input1, input2, input3, ..., inputn)\n",
    "\n",
    "Det er ikke nødvendig at det er like mange inputs som det er outputs. Det er nødvendig å ha like mange mottatt_outputs som det er outputs inne i funksjonen. Under er et eksempel på en funksjon og bruk av den."
   ]
  },
  {
   "cell_type": "markdown",
   "metadata": {},
   "source": [
    "### Oppgave\n",
    "Lag en funksjon som tar inn en liste med minst to tall. Returner summen av det største og det minste tallet.\n",
    "\n",
    "Det er brukerens ansvar å gi riktig type input. Du trenger ikke kontrollere at inputen er på riktig format, men det vil være en god øvelse."
   ]
  },
  {
   "cell_type": "markdown",
   "metadata": {},
   "source": [
    "Her er forventet resultat for noen tester:\n",
    "\n",
    "print(summerstørsteogminste([1,2,3,4,5,6,7]))\n",
    "\n",
    "8\n",
    "\n",
    "print(summerstørsteogminste([4,6,7,9,2]))\n",
    "\n",
    "11\n",
    "\n",
    "print(summerstørsteogminste([-5, 3, 6, 8]))\n",
    "\n",
    "3"
   ]
  },
  {
   "cell_type": "code",
   "execution_count": null,
   "metadata": {},
   "outputs": [],
   "source": [
    "def summerstørsteogminste(listen):\n"
   ]
  },
  {
   "cell_type": "code",
   "execution_count": null,
   "metadata": {},
   "outputs": [],
   "source": [
    "# Her er det tester for funksjonen summerstørsteogminste.\n",
    "print(summerstørsteogminste([1,2,3,4,5,6,7]))\n",
    "print(summerstørsteogminste([4,6,7,9,2]))\n",
    "print(summerstørsteogminste([-5, 3, 6, 8]))"
   ]
  },
  {
   "cell_type": "markdown",
   "metadata": {},
   "source": [
    "### Oppgave\n",
    "Lag en funksjon som benytter summerstørsteogminste for å sammenligne to lister. Returner den listen som har den største summen av største og minste tall. Hvis de har lik sum, returner den første listen."
   ]
  },
  {
   "cell_type": "markdown",
   "metadata": {},
   "source": [
    "Her er forventet resultat for noen tester:\n",
    "\n",
    "print(sammenlignlister([3,5,7,9], [1,2,3,4,5]))\n",
    "\n",
    "[3, 5, 7, 9]\n",
    "\n",
    "print(sammenlignlister([2,4,6,-8], [-5,-7,3,6,1]))\n",
    "\n",
    "[-5, -7, 3, 6, 1]\n",
    "\n",
    "print(sammenlignlister([1,4,8], [11,-2,4,1,6]))\n",
    "\n",
    "[1, 4, 8]"
   ]
  },
  {
   "cell_type": "code",
   "execution_count": null,
   "metadata": {},
   "outputs": [],
   "source": [
    "def sammenlignlister(liste1, liste2):\n"
   ]
  },
  {
   "cell_type": "code",
   "execution_count": null,
   "metadata": {},
   "outputs": [],
   "source": [
    "print(sammenlignlister([3,5,7,9], [1,2,3,4,5]))\n",
    "print(sammenlignlister([2,4,6,-8], [-5,-7,3,6,1]))\n",
    "print(sammenlignlister([1,4,8], [11,-2,4,1,6]))"
   ]
  },
  {
   "cell_type": "markdown",
   "metadata": {},
   "source": [
    "## Pengedeling\n",
    "\n",
    "### Lønn for husarbeid\n",
    "3 barn, 50 kr/time, 2 timer. Lønnen skal fordeles fra en haug med kronestykker, en mynt til hvert barn om gangen.\n",
    "\n",
    "### Flaskepant\n",
    "Pengehaug, ukjent antall kronestykker. Ingen barn skal få mer enn noen av de andre.\n",
    "\n",
    "### Løkker\n",
    "Hvis vi vet hvor mange ganger noe skal gjøres bruker vi en for-løkke (for-loop). Hvis vi ikke vet hvor mange ganger noe skal gjøres, men vet når vi er ferdige, bruker vi en while-løkke (while-loop)."
   ]
  },
  {
   "cell_type": "code",
   "execution_count": null,
   "metadata": {},
   "outputs": [],
   "source": [
    "def pengedeling1(timelønn, timetall):\n",
    "    barn1 = 0\n",
    "    barn2 = 0\n",
    "    barn3 = 0\n",
    "    antallrunder = timelønn * timetall\n",
    "    pengehaug = timelønn * timetall * 3\n",
    "    for i in range(0, antallrunder):\n",
    "        pengehaug -= 3\n",
    "        barn1 += 1\n",
    "        barn2 += 1\n",
    "        barn3 += 1\n",
    "    print('Nå er fordelingen ferdig. Det ble',pengehaug,'krone(r) igjen. Hvert barn fikk',barn1,'krone(r).')"
   ]
  },
  {
   "cell_type": "code",
   "execution_count": null,
   "metadata": {},
   "outputs": [],
   "source": [
    "pengedeling1(50, 3)"
   ]
  },
  {
   "cell_type": "code",
   "execution_count": null,
   "metadata": {},
   "outputs": [],
   "source": [
    "def pengedeling2(pengehaug):\n",
    "    barn1 = 0\n",
    "    barn2 = 0\n",
    "    barn3 = 0\n",
    "    while pengehaug >= 3:\n",
    "        pengehaug -= 3\n",
    "        barn1 += 1\n",
    "        barn2 += 1\n",
    "        barn3 += 1\n",
    "    print('Nå er fordelingen ferdig. Det ble',pengehaug,'krone(r) igjen. Hvert barn fikk',barn1,'krone(r).')"
   ]
  },
  {
   "cell_type": "code",
   "execution_count": null,
   "metadata": {},
   "outputs": [],
   "source": [
    "pengedeling2(67)"
   ]
  },
  {
   "cell_type": "markdown",
   "metadata": {},
   "source": [
    "En for-løkke kan i hovedsak lages på to måter. Enten med range-funksjonen som brukt over, eller med en liste med elementer der vi behandler ett og ett. Den andre måten er vist under. Legg merke til de firkantede klammene, og at alle elementene er adskilt med komma."
   ]
  },
  {
   "cell_type": "code",
   "execution_count": null,
   "metadata": {},
   "outputs": [],
   "source": [
    "tallene = [4, 2, 6, 4, 5, 3]\n",
    "summen = 0\n",
    "for tall in tallene:\n",
    "    print(\"neste tall er\", tall)\n",
    "    summen += tall\n",
    "    print(\"summen så langt er\",summen)"
   ]
  },
  {
   "cell_type": "code",
   "execution_count": null,
   "metadata": {},
   "outputs": [],
   "source": [
    "fruktliste = [\"eple\", \"banan\", \"drue\", \"sitron\", \"melon\"]\n",
    "tekst = \"\"\n",
    "for frukt in fruktliste:\n",
    "    print(frukt)\n",
    "    tekst += frukt\n",
    "print(tekst)"
   ]
  },
  {
   "cell_type": "markdown",
   "metadata": {},
   "source": [
    "## Struktur for løkker\n",
    "\n",
    "### For-løkker\n",
    "I hovedsak to muligheter. Enten:\n",
    "> for ting in [element1, element2, element3, ..., elementn]:\n",
    "\n",
    ">     handling1\n",
    "\n",
    ">     handling2 osv.\n",
    "\n",
    "Eller:\n",
    "> for i in range(start, stopp):\n",
    "\n",
    ">     handling1\n",
    "\n",
    ">     handling2 osv.\n",
    "\n",
    "I prinsippet er metode 2 en variant av den første.\n",
    "\n",
    "### While-løkker (advarsel: while-løkker kan bli uendelige løkker)\n",
    "> initialiser betingelse\n",
    "\n",
    "> while betingelse er oppfylt:\n",
    "\n",
    ">     handling1\n",
    "\n",
    ">     handling2 osv.\n",
    "\n",
    "(Disse handlingene SKAL kunne endre sannhetsverdien til betingelsen i while-løkken, ellers skaper vi uendelige løkker)"
   ]
  },
  {
   "cell_type": "markdown",
   "metadata": {},
   "source": [
    "Bruk cellen under til å teste en uendelig løkke. For å avbryte den uendelige løkken, trykk på Kernel og velg Interrupt.\n",
    "\n",
    "Du kan se at en uendelig løkke kjører fordi det er en * i firkanten til venstre for cellen, det kommer aldri noe tall der. I tillegg vil den lille ringen til høyre for \"Python 3\" øverst til høyre være fylt grå, og gi teksten \"Kernel busy\" hvis du peker på den. I dette tilfellet er det også en print-kommando som printer noe mange ganger på skjermen, som kan gi deg et tegn på at en uendelig løkke kjører."
   ]
  },
  {
   "cell_type": "code",
   "execution_count": null,
   "metadata": {},
   "outputs": [],
   "source": [
    "# Denne koden vil starte en uendelig løkke. Avbryt den ved å trykke på Kernel og velge Interrupt.\n",
    "# Prøv gjerne også å fjerne # foran siste linje og kjøre koden på nytt etterpå for å se at løkken ikke lenger er uendelig.\n",
    "\n",
    "tall = 4\n",
    "while tall < 10:\n",
    "    print(tall)\n",
    "#    tall += 1"
   ]
  },
  {
   "cell_type": "markdown",
   "metadata": {},
   "source": [
    "Fullfør koden under for å skape en løkke som går gjennom en liste med tall og printer de tallene som er 20 eller større.\n",
    "\n",
    "Prøv gjerne å endre ordet \"tall\" til f.eks. \"katt\". Hva kan vi skrive på den plassen, hvilke navn kan vi bruke?"
   ]
  },
  {
   "cell_type": "code",
   "execution_count": null,
   "metadata": {},
   "outputs": [],
   "source": [
    "tall_liste = [54, 12.3, 95, 2.39, 20, 8, 102.9]\n",
    "for tall in tall_liste:\n",
    "    if ...:           # Sjekk om tallet er 20 eller større.\n",
    "        print(...)"
   ]
  },
  {
   "cell_type": "markdown",
   "metadata": {},
   "source": [
    "Under kan du se en annen struktur for å gjøre den samme oppgaven. Legg merke til at len(tall_liste) er antall elementer i, eller lengden til, listen. Denne strukturen kan være nyttig i andre situasjoner. Styrken med denne strukturen er at vi har i, altså nummereringen til elementene."
   ]
  },
  {
   "cell_type": "code",
   "execution_count": null,
   "metadata": {},
   "outputs": [],
   "source": [
    "tall_liste = [54, 12.3, 95, 2.39, 20, 8, 102.9]\n",
    "print(len(tall_liste))\n",
    "\n",
    "for i in range(len(tall_liste)):\n",
    "    print(i)\n",
    "    if ...:\n",
    "        print(...)"
   ]
  },
  {
   "cell_type": "markdown",
   "metadata": {},
   "source": [
    "Fullfør koden under for å skape en løkke som printer ett og ett partall, fra og med 6 til og med 14. Hvert tall skal printes på en egen linje. Hint: Tenk på hvordan du kan sjekke om et tall er et partall."
   ]
  },
  {
   "cell_type": "code",
   "execution_count": null,
   "metadata": {},
   "outputs": [],
   "source": [
    "for k in range(6, 15):\n",
    "    if ...:             # Sjekk om tallet er et partall\n",
    "        print(...)"
   ]
  },
  {
   "cell_type": "code",
   "execution_count": null,
   "metadata": {},
   "outputs": [],
   "source": []
  },
  {
   "cell_type": "markdown",
   "metadata": {},
   "source": [
    "Fullfør koden under for å skape en løkke som summerer heltallene 1, 2, 3, osv. til summen er blitt større enn eller lik en gitt terskelverdi. Prøv gjerne med ulike terskelverdier. Når summen er blitt stor nok skal antall tall som måtte summeres og sluttsummen printes. Kontroller med håndberegning."
   ]
  },
  {
   "cell_type": "code",
   "execution_count": null,
   "metadata": {},
   "outputs": [],
   "source": [
    "summen = 0\n",
    "tall = 1\n",
    "terskel = 20\n",
    "\n",
    "while ...:\n",
    "    # Legg til tall til summen\n",
    "    # Sørg for at du i neste runde legger til neste tall\n",
    "    \n",
    "print(...) # Skriv en tilbakemelding til brukeren"
   ]
  },
  {
   "cell_type": "code",
   "execution_count": null,
   "metadata": {},
   "outputs": [],
   "source": []
  },
  {
   "cell_type": "markdown",
   "metadata": {},
   "source": [
    "### Oppgave\n",
    "#### a)\n",
    "Skriv flytskjema for en funksjon som tar en liste som input og som returnerer summen av de positive tallene i listen. Funksjonen skal bruke en for-løkke for å gå gjennom elementene i en liste som er gitt som input til funksjonen. Dersom elementet er et tall (int eller float) skal det legges til i en sum som defineres før løkken. Tenk spesielt over hvordan du sjekker om elementet er et tall.\n",
    "\n",
    "#### b)\n",
    "Fullfør koden under for å skape en funksjon som definert over. (OBS: Ikke bruk ordene \"sum\" eller \"list\" som variabelnavn, siden det er navn på en innebygde funksjoner i Python)\n",
    "\n",
    "Hvis du ønsker å strukturere funksjonen din annerledes enn foreslått i skjelettkoden under, modifiser den så du kan skrive slik du selv vil. Husk å teste den ferdige funksjonen så du vet at den oppfører seg som den skal både for riktig og for gal input.\n",
    "\n",
    "Test:\n",
    "\n",
    "import math\n",
    "\n",
    "print(summer_tall([1, 2, 3]))\n",
    "\n",
    "print(summer_tall([1.2, -3, math.pi, math.sqrt(2)]))\n",
    "\n",
    "print(summer_tall([\"hei\", 3, \"eple\", 8.9]))\n",
    "\n",
    "print(summer_tall([5, [1, 2, 3], \"tekst\", 11]))\n",
    "\n",
    "print(summer_tall([]))\n",
    "\n",
    "6\n",
    "\n",
    "5.755806215962888\n",
    "\n",
    "11.9\n",
    "\n",
    "16\n",
    "\n",
    "0"
   ]
  },
  {
   "cell_type": "code",
   "execution_count": null,
   "metadata": {},
   "outputs": [],
   "source": [
    "def summer_tall(listen):\n",
    "    # definer en variabel som skal telle tallene i listen.\n",
    "    for ... in listen:\n",
    "        # Avgjør om elementet i listen er et tall eller ikke.\n",
    "        # Dersom det er et tall, avgjør om tallet er positivt eller ikke.\n",
    "        # Hvis det skal legges til, legg det til. Ellers, ikke gjør noe.\n",
    "    return(...)"
   ]
  },
  {
   "cell_type": "code",
   "execution_count": null,
   "metadata": {},
   "outputs": [],
   "source": [
    "import math\n",
    "print(summer_tall([1, 2, 3]))\n",
    "print(summer_tall([1.2, -3, math.pi, math.sqrt(2)]))\n",
    "print(summer_tall([\"hei\", 3, \"eple\", 8.9]))\n",
    "print(summer_tall([5, [1, 2, 3], \"tekst\", 11]))\n",
    "print(summer_tall([]))"
   ]
  },
  {
   "cell_type": "markdown",
   "metadata": {},
   "source": [
    "## Generere tabell med funksjonsverdier og plotte\n",
    "Vi kan lage tabeller med x-verdier og y-verdier for en funksjon og plotte disse, f.eks. ved å bruke en løkke. En god måte å lagre tabellen er som to lister, en med x-verdier og en med y-verdier."
   ]
  },
  {
   "cell_type": "code",
   "execution_count": null,
   "metadata": {},
   "outputs": [],
   "source": [
    "x = []\n",
    "y = []\n",
    "for i in range(-5, 6):\n",
    "    x.append(i)\n",
    "    y.append(i**2)\n",
    "print(x)\n",
    "print(y)"
   ]
  },
  {
   "cell_type": "code",
   "execution_count": null,
   "metadata": {},
   "outputs": [],
   "source": [
    "import matplotlib.pyplot as plt\n",
    "%matplotlib notebook\n",
    "plt.figure()\n",
    "plt.plot(x, y)\n",
    "plt.show()"
   ]
  },
  {
   "cell_type": "code",
   "execution_count": null,
   "metadata": {},
   "outputs": [],
   "source": [
    "import numpy as np\n",
    "x = np.linspace(0, 1, 101) # start, stopp, antall\n",
    "print(x)"
   ]
  },
  {
   "cell_type": "code",
   "execution_count": null,
   "metadata": {},
   "outputs": [],
   "source": [
    "import numpy as np\n",
    "x = np.linspace(-5, 5, 101) # start, stopp, antall\n",
    "y = x**2 # Når x er et numpy-objekt kan vi ta hele\n",
    "         # vektoren kvadrert og får ett og ett element kvadrert.\n",
    "         # Numpy skjønner at vi trolig ønsker å kvadrere ett og ett element.\n",
    "         # Dersom det faktisk er prikk-produktet mellom vektorene du ønsker\n",
    "        # finnes det en egen funksjon for det.\n",
    "plt.figure()\n",
    "plt.plot(x, y)\n",
    "plt.show()"
   ]
  },
  {
   "cell_type": "code",
   "execution_count": null,
   "metadata": {},
   "outputs": [],
   "source": [
    "x = np.linspace(-2*np.pi, 2*np.pi, 1001) # start, stopp, antall\n",
    "y = np.sin(x)\n",
    "plt.figure()\n",
    "plt.plot(x, y)\n",
    "plt.grid()\n",
    "plt.show()"
   ]
  },
  {
   "cell_type": "markdown",
   "metadata": {},
   "source": [
    "### Oppgave\n",
    "#### a)\n",
    "Skriv flytskjema for en funksjon som tar i mot input fra en bruker. Det skal være to inputs, den første er frekvensen til en sinus-funksjon, den andre er amplituden. Din funksjon skal generere t-verdier (eller x-verdier om du vil) mellom 0 og 2 pi og beregne y-verdier for en sinusfunksjon etter mønsteret:\n",
    "\n",
    "amplitude ganger sinus(frekvens ganger t)\n",
    "\n",
    "Til slutt skal grafen plottes.\n",
    "\n",
    "#### b)\n",
    "Fullfør koden under for å skape en funksjon som definert over.\n",
    "\n",
    "Hvis du ønsker å strukturere funksjonen din annerledes enn foreslått i skjelettkoden under, modifiser den så du kan skrive slik du selv vil. Husk å teste den ferdige funksjonen så du vet at den oppfører seg som den skal både for riktig og for gal input.\n",
    "\n",
    "###### Rett under ser du en figur som viser hvordan outputen skal være dersom man kjører funksjonen med inputs 2 og 3, altså frekvens 2 og amplitude 3."
   ]
  },
  {
   "cell_type": "code",
   "execution_count": null,
   "metadata": {},
   "outputs": [],
   "source": [
    "plotsin(2, 3)"
   ]
  },
  {
   "cell_type": "code",
   "execution_count": null,
   "metadata": {},
   "outputs": [],
   "source": [
    "def plotsin(frekvens, amplitude):\n",
    "    import matplotlib.pyplot as plt\n",
    "    %matplotlib notebook\n",
    "    import numpy as np\n",
    "    \n",
    "    # Opprett en figur\n",
    "    # Plot x og y\n",
    "    # Skru på rutenett\n",
    "    # Vis figuren"
   ]
  },
  {
   "cell_type": "markdown",
   "metadata": {},
   "source": [
    "### Oppgave\n",
    "#### a)\n",
    "Skriv flytskjema for en funksjon som tar i mot input fra en bruker. Det skal være fire inputs. Den første er frekvensen til en sinus-funksjon, den andre er amplituden. Den tredje er frekvensen til en cosinus-funksjon, den andre er amplituden til cosinus-funksjonen. Din funksjon skal generere t-verdier (eller x-verdier om du vil) mellom 0 og 2 pi og beregne y-verdier for både sinusfunksjonen og cosinusfunksjonen etter mønsteret:\n",
    "\n",
    "amplitude1 ganger sinus(frekvens1 ganger t)\n",
    "amplitude2 ganger cosinus(frekvens2 ganger t)\n",
    "\n",
    "Til slutt skal begge grafene plottes i samme figur.\n",
    "\n",
    "#### b)\n",
    "Fullfør koden under for å skape en funksjon som definert over.\n",
    "\n",
    "Hvis du ønsker å strukturere funksjonen din annerledes enn foreslått i skjelettkoden under, modifiser den så du kan skrive slik du selv vil. Husk å teste den ferdige funksjonen så du vet at den oppfører seg som den skal både for riktig og for gal input.\n",
    "\n",
    "###### Hint: Du kan bestemme fargen til en graf ved å legge til en bokstav for fargen etter x og y. plt.plot(t, y1, 'r') gir en rød graf. Kodene for noen av de tilgjengelige fargene er b: blue, g: green, r: red, c: cyan, m: magenta, y: yellow, k: black og w: white.\n",
    "\n",
    "###### Rett under ser du en figur som viser hvordan outputen skal være dersom man kjører funksjonen med inputs 2, 3, 1 og 5, altså frekvens 2 og amplitude 3 for sinus og frekvens 1 og amplitude 5 for cosinus. Her er det definert at sinus tegnes i rødt og cosinus i grønt. Du kan bruke andre farger hvis du vil."
   ]
  },
  {
   "cell_type": "code",
   "execution_count": null,
   "metadata": {},
   "outputs": [],
   "source": []
  },
  {
   "cell_type": "code",
   "execution_count": null,
   "metadata": {},
   "outputs": [],
   "source": [
    "def plotsin(frekvens1, amplitude1, frekvens2, amplitude2):\n",
    "    import matplotlib.pyplot as plt\n",
    "    %matplotlib notebook\n",
    "    import numpy as np\n",
    "\n",
    "    # Generer t-verdier.\n",
    "\n",
    "    # Beregn y-verdier for sinus\n",
    "    # Beregn y-verdier for cosinus\n",
    "    \n",
    "    # Opprett en figur\n",
    "    # Plot x og y for sinus\n",
    "    # Plot x og y for cosinus\n",
    "    # Skru på rutenett\n",
    "    # Vis figuren"
   ]
  },
  {
   "cell_type": "code",
   "execution_count": null,
   "metadata": {},
   "outputs": [],
   "source": [
    "plotsin(2, 3, 1, 5)"
   ]
  },
  {
   "cell_type": "code",
   "execution_count": null,
   "metadata": {},
   "outputs": [],
   "source": [
    "def plotsin(frekvens1, amplitude1, frekvens2, amplitude2):\n",
    "    import matplotlib.pyplot as plt\n",
    "    %matplotlib notebook\n",
    "    import numpy as np\n",
    "\n",
    "    # Generer t-verdier.\n",
    "    \n",
    "    # Beregn y-verdier for sinus\n",
    "    # Beregn y-verdier for cosinus\n",
    "\n",
    "    # Opprett en figur\n",
    "    # Plot x og y for sinus\n",
    "    # Plot x og y for cosinus\n",
    "    # Skru på rutenett\n",
    "    # Vis figuren"
   ]
  },
  {
   "cell_type": "code",
   "execution_count": null,
   "metadata": {},
   "outputs": [],
   "source": []
  },
  {
   "cell_type": "markdown",
   "metadata": {},
   "source": [
    "### Vakre figurer og plots\n",
    "Når vi ikke vet hvordan vi kan lage fine plots og hvilke kommandoer som finnes kan vi bruke andres eksempler og modifisere dem for å passe til våre data. Vi bruker matplotlibs galleri med eksempler:\n",
    "http://matplotlib.org/gallery.html\n",
    "\n",
    "Man kan også lese tutorialen:\n",
    "http://matplotlib.org/users/pyplot_tutorial.html\n",
    "\n",
    "Eller FAQen:\n",
    "http://matplotlib.org/faq/usage_faq.html\n",
    "\n",
    "Flere ressurser her:\n",
    "http://matplotlib.org/resources/index.html"
   ]
  },
  {
   "cell_type": "code",
   "execution_count": null,
   "metadata": {},
   "outputs": [],
   "source": [
    "# http://matplotlib.org/examples/ticks_and_spines/spines_demo_bounds.html\n",
    "\n",
    "import numpy as np\n",
    "import matplotlib.pyplot as plt\n",
    "\n",
    "\n",
    "x = np.linspace(0, 2*np.pi, 50)\n",
    "y = np.sin(x)\n",
    "y2 = y + 0.1 * np.random.normal(size=x.shape)\n",
    "\n",
    "fig, ax = plt.subplots()\n",
    "ax.plot(x, y, 'k--')\n",
    "ax.plot(x, y2, 'ro')\n",
    "\n",
    "# set ticks and tick labels\n",
    "ax.set_xlim((0, 2*np.pi))\n",
    "ax.set_xticks([0, np.pi, 2*np.pi])\n",
    "ax.set_xticklabels(['0', '$\\pi$', '2$\\pi$'])\n",
    "ax.set_ylim((-1.5, 1.5))\n",
    "ax.set_yticks([-1, 0, 1])\n",
    "\n",
    "# Only draw spine between the y-ticks\n",
    "ax.spines['left'].set_bounds(-1, 1)\n",
    "# Hide the right and top spines\n",
    "ax.spines['right'].set_visible(False)\n",
    "ax.spines['top'].set_visible(False)\n",
    "# Only show ticks on the left and bottom spines\n",
    "ax.yaxis.set_ticks_position('left')\n",
    "ax.xaxis.set_ticks_position('bottom')\n",
    "\n",
    "plt.show()"
   ]
  },
  {
   "cell_type": "code",
   "execution_count": null,
   "metadata": {},
   "outputs": [],
   "source": [
    "# http://matplotlib.org/examples/subplots_axes_and_figures/subplot_demo.html\n",
    "\n",
    "\"\"\"\n",
    "Simple demo with multiple subplots.\n",
    "\"\"\"\n",
    "import numpy as np\n",
    "import matplotlib.pyplot as plt\n",
    "\n",
    "\n",
    "x1 = np.linspace(0.0, 5.0)\n",
    "x2 = np.linspace(0.0, 2.0)\n",
    "\n",
    "y1 = np.cos(2 * np.pi * x1) * np.exp(-x1)\n",
    "y2 = np.cos(2 * np.pi * x2)\n",
    "\n",
    "plt.figure()\n",
    "plt.subplot(2, 1, 1)\n",
    "plt.plot(x1, y1, 'yo-')\n",
    "plt.title('A tale of 2 subplots')\n",
    "plt.ylabel('Damped oscillation')\n",
    "\n",
    "plt.subplot(2, 1, 2)\n",
    "plt.plot(x2, y2, 'r.-')\n",
    "plt.xlabel('time (s)')\n",
    "plt.ylabel('Undamped')\n",
    "\n",
    "plt.show()"
   ]
  },
  {
   "cell_type": "code",
   "execution_count": null,
   "metadata": {},
   "outputs": [],
   "source": [
    "from mpl_toolkits.mplot3d import Axes3D\n",
    "from matplotlib import cm\n",
    "from matplotlib.ticker import LinearLocator, FormatStrFormatter\n",
    "import matplotlib.pyplot as plt\n",
    "import numpy as np\n",
    "\n",
    "fig = plt.figure()\n",
    "ax = fig.gca(projection='3d')\n",
    "X = np.arange(-5, 5, 0.25)\n",
    "Y = np.arange(-5, 5, 0.25)\n",
    "X, Y = np.meshgrid(X, Y)\n",
    "R = np.sqrt(X**2 + Y**2)\n",
    "Z = np.sin(R)\n",
    "surf = ax.plot_surface(X, Y, Z, rstride=1, cstride=1, cmap=cm.coolwarm,\n",
    "                       linewidth=0, antialiased=False)\n",
    "ax.set_zlim(-1.01, 1.01)\n",
    "\n",
    "ax.zaxis.set_major_locator(LinearLocator(10))\n",
    "ax.zaxis.set_major_formatter(FormatStrFormatter('%.02f'))\n",
    "\n",
    "fig.colorbar(surf, shrink=0.5, aspect=5)\n",
    "\n",
    "plt.show()"
   ]
  },
  {
   "cell_type": "code",
   "execution_count": null,
   "metadata": {},
   "outputs": [],
   "source": []
  },
  {
   "cell_type": "markdown",
   "metadata": {},
   "source": [
    "## Stein, saks, papir\n",
    "En lek vi alle kjenner: To personer spiller. Man velger stein, saks eller papir. Hvis spillerne velger det samme blir det uavgjort. Hvis de velger ulikt vinner en av dem. Stein slår saks, saks slår papir, og papir slår stein.\n",
    "\n",
    "Hva må vi gjøre for å spille mot en datamaskin som kan velge tilfeldig blant de tre alternativene?"
   ]
  },
  {
   "cell_type": "markdown",
   "metadata": {},
   "source": [
    "### Øving 9\n",
    "#### a)\n",
    "Skriv flytskjema for en funksjon som tar i mot input fra en bruker (\"stein\", \"saks\" eller \"papir\"), genererer et tilfeldig valg for datamaskinen, og som avgjør utfallet av leken. Du trenger ikke kontrollere om inputene fra brukeren er gyldige (riktige ord, bare små bokstaver osv.), men du kan gjøre det hvis du vil. Du kan gjerne legge inn et spørsmål om spillet skal gjentas eller avsluttes etter hver runde.\n",
    "\n",
    "#### b)\n",
    "Fullfør koden under for å skape en funksjon som definert over.\n",
    "\n",
    "Hvis du ønsker å strukturere funksjonen din annerledes enn foreslått i skjelettkoden under, modifiser den så du kan skrive slik du selv vil. Husk å teste den ferdige funksjonen så du vet at den oppfører seg som den skal både for riktig og for gal input."
   ]
  },
  {
   "cell_type": "code",
   "execution_count": null,
   "metadata": {},
   "outputs": [],
   "source": [
    "def steinsakspapir(bruker):\n",
    "    \"\"\"\n",
    "    Hjelpetekst her.\n",
    "    \"\"\"\n",
    "\n",
    "    import random\n",
    "\n",
    "    if bruker == 'stein' or bruker == 'saks' or bruker == 'papir':\n",
    "        pc = random.choice(['stein', 'saks', 'papir'])\n",
    "        print('PCen valgte',pc)\n",
    "        if # Her skal det være en kontroll som sjekker om det ble uavgjort.\n",
    "            # Her skal det være en melding som printes hvis det blir uavgjort.\n",
    "        else:\n",
    "            if bruker == 'stein':\n",
    "                # Her skal det være kode som sjekker hva maskinen valgte og hvem som vant.\n",
    "            elif bruker == 'saks':\n",
    "                # Her skal det være kode som sjekker hva maskinen valgte og hvem som vant.\n",
    "            else:\n",
    "                # Her skal det være kode som sjekker hva maskinen valgte og hvem som vant.\n",
    "    else:\n",
    "        print('Ugyldig input.')"
   ]
  },
  {
   "cell_type": "code",
   "execution_count": null,
   "metadata": {},
   "outputs": [],
   "source": [
    "steinsakspapir('saks')"
   ]
  },
  {
   "cell_type": "markdown",
   "metadata": {},
   "source": [
    "Hva med oppskalering? Hvis vi gjør det til rock-paper-scissors-lizard-Spock, hvordan må koden endres?\n",
    "\n",
    "https://www.youtube.com/watch?v=Kov2G0GouBw\n",
    "\n",
    "Scissors cuts paper\n",
    "\n",
    "Paper covers rock\n",
    "\n",
    "Rock crushes lizard\n",
    "\n",
    "Lizard poisons Spock\n",
    "\n",
    "Spock smashes scissors\n",
    "\n",
    "Scissors decapitates lizard\n",
    "\n",
    "Lizard eats paper\n",
    "\n",
    "Paper disproves Spock\n",
    "\n",
    "Spock vaporizes rock\n",
    "\n",
    "Rock crushes scissors\n",
    "\n",
    "Og hva med RPS-15?\n",
    "http://i.imgur.com/7YuFHUU.jpg\n",
    "\n",
    "Eller RPS-101?\n",
    "\n",
    "Under ser vi hvordan man kan skrive det litt mer kompakt. Her defineres variabelen \"vinnere\" som en dictionary. Det er et element som ikke dekkes i dette kurset. Enkelt forklart kobler det et element til et annet element. Her er det brukt for å koble hvert mulige valg til de tingene som blir slått at det valget."
   ]
  },
  {
   "cell_type": "code",
   "execution_count": null,
   "metadata": {},
   "outputs": [],
   "source": [
    "import random\n",
    "\n",
    "alternativer = ['stein', 'saks', 'papir', 'øgle', 'Spock']\n",
    "\n",
    "vinnere = {'stein': ['øgle', 'saks'], 'saks': ['papir', 'øgle'],\\\n",
    "          'papir': ['stein', 'Spock'], 'øgle': ['Spock', 'papir'],\\\n",
    "          'Spock': ['saks', 'stein']}\n",
    "\n",
    "bruker = input('Hva velger du? '+str(alternativer)+'\\n')\n",
    "if bruker in alternativer:\n",
    "    pc = random.choice(alternativer)\n",
    "    print('PCen valgte',pc)\n",
    "    if pc == bruker:\n",
    "        print('Uavgjort.')\n",
    "    else:\n",
    "        if pc in vinnere[bruker]:\n",
    "            print('Brukeren vant!')\n",
    "        else:\n",
    "            print('PCen vant!')\n",
    "else:\n",
    "    print('Ugyldig input.')"
   ]
  },
  {
   "cell_type": "code",
   "execution_count": null,
   "metadata": {},
   "outputs": [],
   "source": []
  },
  {
   "cell_type": "code",
   "execution_count": null,
   "metadata": {},
   "outputs": [],
   "source": []
  },
  {
   "cell_type": "code",
   "execution_count": null,
   "metadata": {},
   "outputs": [],
   "source": []
  },
  {
   "cell_type": "code",
   "execution_count": null,
   "metadata": {},
   "outputs": [],
   "source": []
  },
  {
   "cell_type": "code",
   "execution_count": null,
   "metadata": {},
   "outputs": [],
   "source": [
    "import jovian"
   ]
  },
  {
   "cell_type": "code",
   "execution_count": null,
   "metadata": {},
   "outputs": [],
   "source": [
    "jovian.commit()"
   ]
  }
 ],
 "metadata": {
  "kernelspec": {
   "display_name": "Python 3",
   "language": "python",
   "name": "python3"
  },
  "language_info": {
   "codemirror_mode": {
    "name": "ipython",
    "version": 3
   },
   "file_extension": ".py",
   "mimetype": "text/x-python",
   "name": "python",
   "nbconvert_exporter": "python",
   "pygments_lexer": "ipython3",
   "version": "3.8.3"
  }
 },
 "nbformat": 4,
 "nbformat_minor": 4
}
