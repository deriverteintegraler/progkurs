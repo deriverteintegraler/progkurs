{
 "cells": [
  {
   "cell_type": "markdown",
   "metadata": {},
   "source": [
    "# Hangman\n",
    "Lag et hangman-program som lar pcen velge et hemmelig ord tilfeldig fra en liste med ord. Det kan også være en setning fra en liste med setninger.\n",
    "\n",
    "Spilleren skal velge en og en bokstav for å gjette på ordet eller setningen. Det skal ikke være nødvendig å gjette på mellomrom, komma osv.\n",
    "\n",
    "Etter hver runde skal spilleren få en tilbakemelding på hvordan ordet eller setningen ser ut med de bokstavene de har gjettet riktig, hvor mange ganger de har gjettet feil, og listen over bokstaver de allerede har gjettet på.\n",
    "\n",
    "Eksempel:\n",
    "\n",
    "Den hemmelige teksten er: \"Dette er en test\"\n",
    "\n",
    "Spilleren får se \"..... .. .. ....\" (altså punktum der det mangler bokstaver)\n",
    "\n",
    "##### Første runde\n",
    "Spilleren gjetter på \"e\"\n",
    "\n",
    "Spilleren får tilbakemelding: \"Bra, denne bokstaven er i setningen\"\n",
    "\n",
    "Spilleren får se \".e..e e. e. .e..\"\n",
    "\n",
    "Spilleren får tilbakemelding: \"Du har gjettet feil 0 ganger\"\n",
    "\n",
    "Spilleren får tilbakemelding: \"Du har gjettet på følgende bokstaver: e\"\n",
    "\n",
    "##### Andre runde\n",
    "Spilleren gjetter på \"r\"\n",
    "\n",
    "Spilleren får tilbakemelding: \"Bra, denne bokstaven er i setningen\"\n",
    "\n",
    "Spilleren får se \".e..e er e. .e..\"\n",
    "\n",
    "Spilleren får tilbakemelding: \"Du har gjettet feil 0 ganger\"\n",
    "\n",
    "Spilleren får tilbakemelding: \"Du har gjettet på følgende bokstaver: er\"\n",
    "\n",
    "##### Tredje runde\n",
    "Spilleren gjetter på \"m\"\n",
    "\n",
    "Spilleren får tilbakemelding: \"Synd, denne bokstaven er ikke i setningen\"\n",
    "\n",
    "Spilleren får se \".e..e er e. .e..\"\n",
    "\n",
    "Spilleren får tilbakemelding: \"Du har gjettet feil 1 gang\"\n",
    "\n",
    "Spilleren får tilbakemelding: \"Du har gjettet på følgende bokstaver: emr\"\n",
    "\n",
    "##### Fjerde runde\n",
    "Spilleren gjetter på \"t\"\n",
    "\n",
    "Spilleren får tilbakemelding: \"Bra, denne bokstaven er i setningen\"\n",
    "\n",
    "Spilleren får se \".ette er e. te.t\"\n",
    "\n",
    "Spilleren får tilbakemelding: \"Du har gjettet feil 1 gang\"\n",
    "\n",
    "Spilleren får tilbakemelding: \"Du har gjettet på følgende bokstaver: emrt\"\n",
    "\n",
    "Slik fortsetter det til spilleren har gjettet hele setningen eller gjettet feil flere ganger enn vi tillater."
   ]
  },
  {
   "cell_type": "code",
   "execution_count": null,
   "metadata": {},
   "outputs": [],
   "source": []
  }
 ],
 "metadata": {
  "kernelspec": {
   "display_name": "Python 3",
   "language": "python",
   "name": "python3"
  },
  "language_info": {
   "codemirror_mode": {
    "name": "ipython",
    "version": 3
   },
   "file_extension": ".py",
   "mimetype": "text/x-python",
   "name": "python",
   "nbconvert_exporter": "python",
   "pygments_lexer": "ipython3",
   "version": "3.8.3"
  }
 },
 "nbformat": 4,
 "nbformat_minor": 4
}
